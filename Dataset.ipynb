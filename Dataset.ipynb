{
 "cells": [
  {
   "cell_type": "code",
   "execution_count": 1,
   "id": "02dce38d",
   "metadata": {},
   "outputs": [
    {
     "name": "stdout",
     "output_type": "stream",
     "text": [
      "1.13.1+cu117\n"
     ]
    }
   ],
   "source": [
    "import torch\n",
    "import pandas as pd\n",
    "import numpy as np\n",
    "\n",
    "from sklearn.preprocessing import StandardScaler, MinMaxScaler\n",
    "\n",
    "import torch.nn.functional as F\n",
    "from torch_geometric_temporal.dataset import METRLADatasetLoader, ChickenpoxDatasetLoader\n",
    "from torch_geometric_temporal.signal import StaticGraphTemporalSignal\n",
    "from torch_geometric_temporal.nn.attention import ASTGCN, STConv\n",
    "from torch_geometric_temporal.nn.recurrent import A3TGCN, DCRNN\n",
    "\n",
    "pt_version = torch.__version__\n",
    "print(pt_version)"
   ]
  },
  {
   "cell_type": "code",
   "execution_count": 2,
   "id": "aaa78c19",
   "metadata": {},
   "outputs": [
    {
     "name": "stdout",
     "output_type": "stream",
     "text": [
      "cuda:0\n"
     ]
    }
   ],
   "source": [
    "device = torch.device(\"cuda:0\" if torch.cuda.is_available() else \"cpu\")\n",
    "print(device)"
   ]
  },
  {
   "cell_type": "code",
   "execution_count": 3,
   "id": "3108071f",
   "metadata": {},
   "outputs": [
    {
     "data": {
      "text/plain": [
       "'NVIDIA GeForce GTX 1660 Ti with Max-Q Design'"
      ]
     },
     "execution_count": 3,
     "metadata": {},
     "output_type": "execute_result"
    }
   ],
   "source": [
    "torch.cuda.get_device_name(0)"
   ]
  },
  {
   "cell_type": "code",
   "execution_count": 4,
   "id": "d88f929d",
   "metadata": {},
   "outputs": [],
   "source": [
    "RAW_URL = \"https://raw.githubusercontent.com/Vishesh-Mittal/CongestionControl-GNN/ccgnn_dataset/\"\n",
    "\n",
    "step_size = 1 #timestep = step_size * 15\n",
    "history_size = 4 #timesteps to be considered as history\n",
    "num_of_vertices = 20"
   ]
  },
  {
   "cell_type": "code",
   "execution_count": 5,
   "id": "b07d245c",
   "metadata": {},
   "outputs": [],
   "source": [
    "node_data = pd.read_csv(RAW_URL + \"DIVE/DIVE_speed.csv\", header = None)\n",
    "edge_features = pd.read_csv(RAW_URL + \"DIVE/DIVE_adj.csv\", header = None)"
   ]
  },
  {
   "cell_type": "code",
   "execution_count": 6,
   "id": "8b7c8d58",
   "metadata": {},
   "outputs": [
    {
     "data": {
      "text/plain": [
       "array([[-1.10285713, -1.21650587, -1.30865248, ...,  0.37969456,\n",
       "         1.22310742,  0.22232829],\n",
       "       [ 0.23942648, -1.11746493, -1.30865248, ...,  0.37969456,\n",
       "         1.22310742,  0.22232829],\n",
       "       [-0.49057164, -0.55538925, -0.43099249, ...,  0.37969456,\n",
       "         1.22310742,  0.22232829],\n",
       "       ...,\n",
       "       [-0.82965884, -1.23403243, -0.96919997, ...,  0.37969456,\n",
       "         0.0775089 ,  0.22232829],\n",
       "       [-0.64081302, -0.78683407, -0.61415733, ...,  0.37969456,\n",
       "        -1.06808963,  0.22232829],\n",
       "       [-0.44243547, -0.50638527, -0.24417226, ...,  0.37969456,\n",
       "         0.0775089 ,  0.22232829]])"
      ]
     },
     "execution_count": 6,
     "metadata": {},
     "output_type": "execute_result"
    }
   ],
   "source": [
    "stdScaler = StandardScaler()\n",
    "\n",
    "node_data_array = np.array(node_data)\n",
    "stdScaler.fit(node_data_array)\n",
    "node_data_array = stdScaler.transform(node_data_array)\n",
    "node_data_array"
   ]
  },
  {
   "cell_type": "code",
   "execution_count": 7,
   "id": "e562d290",
   "metadata": {},
   "outputs": [
    {
     "data": {
      "text/plain": [
       "(1345, 20)"
      ]
     },
     "execution_count": 7,
     "metadata": {},
     "output_type": "execute_result"
    }
   ],
   "source": [
    "node_data_array.shape"
   ]
  },
  {
   "cell_type": "code",
   "execution_count": 8,
   "id": "72992ddb",
   "metadata": {},
   "outputs": [
    {
     "data": {
      "text/plain": [
       "(71, 2)"
      ]
     },
     "execution_count": 8,
     "metadata": {},
     "output_type": "execute_result"
    }
   ],
   "source": [
    "#to be uploaded\n",
    "edges = [\n",
    "    (0, 0),(0, 1),(0, 4),(0, 10),(0, 15),(0, 17),\n",
    "    (1, 0),(1, 1),(1, 2),(1, 4),\n",
    "    (2, 1),(2, 2),(2, 3),(2, 12),\n",
    "    (3, 2),(3, 3),(3, 7),(3, 9),(3, 12),\n",
    "    (4, 0),(4, 1),(4, 4),(4, 6),(4, 18),\n",
    "    (5, 5),(5, 10),(5, 11),(5, 12),\n",
    "    (6, 6),(6, 7),(6, 18),\n",
    "    (7, 3),(7, 6),(7, 7),\n",
    "    (8, 8),(8, 9),(8, 19),\n",
    "    (9, 3),(9, 8),(9, 9),\n",
    "    (10, 0),(10, 5),(10, 10),(10, 11),\n",
    "    (11, 11),(11, 5),(11, 10),(11, 13),\n",
    "    (12, 3),(12, 5),(12, 12),\n",
    "    (13, 11),(13, 13),\n",
    "    (14, 14),(14, 17),\n",
    "    (15, 0),(15, 15),\n",
    "    (16, 16),(16, 17),(16, 18),(16, 19),\n",
    "    (17, 0),(17, 14),(17, 16),\n",
    "    (18, 4),(18, 6),(18, 16),(18, 18),\n",
    "    (19, 8),(19, 16),(19, 19)\n",
    "]\n",
    "edges = np.array(edges)\n",
    "edges.shape"
   ]
  },
  {
   "cell_type": "code",
   "execution_count": 9,
   "id": "7e89e75a",
   "metadata": {},
   "outputs": [],
   "source": [
    "#Required data\n",
    "\n",
    "xs = []\n",
    "edge_indices = []\n",
    "ys = []\n",
    "y_indices = []\n",
    "edge_attr = []\n",
    "\n",
    "#temporaries\n",
    "edge_index = []\n",
    "edge_feat = []\n",
    "\n",
    "for edge in edges:\n",
    "    edge_index.append(list(edge))\n",
    "    edge_feat.append(edge_features[edge[0]][edge[1]])\n",
    "\n",
    "final_edge_index = np.transpose(edge_index)\n",
    "\n",
    "for index in range(len(node_data_array) - (history_size + step_size + 1)):\n",
    "\n",
    "    node_features = node_data_array[index : index + history_size]\n",
    "    subsequent_node_features = node_data_array[index + history_size + step_size]\n",
    "\n",
    "    node_feat_transpose = np.transpose(node_features)\n",
    "    node_feat_transpose_reshaped = node_feat_transpose.reshape(20,1,4)\n",
    "    #node_feat_transpose_reshaped = node_feat_transpose #For DCRNN (Temp)\n",
    "    subsequent_node_feat_transpose = np.transpose(subsequent_node_features)\n",
    "    subsequent_node_feat_transpose_reshaped = subsequent_node_feat_transpose.reshape(20, 1)\n",
    "    \n",
    "    xs.append(node_feat_transpose_reshaped)\n",
    "    ys.append(subsequent_node_feat_transpose_reshaped)\n",
    "    edge_indices = final_edge_index #static\n",
    "    edge_attr = edge_feat #static\n",
    "\n",
    "xs = np.array(xs)\n",
    "ys = np.array(ys)\n",
    "edge_indices = np.array(edge_indices)\n",
    "edge_attr = np.array(edge_attr)"
   ]
  },
  {
   "cell_type": "code",
   "execution_count": 10,
   "id": "65ccbd81",
   "metadata": {},
   "outputs": [
    {
     "name": "stdout",
     "output_type": "stream",
     "text": [
      "\n",
      "      X feature shape: (1339, 20, 1, 4) \n",
      "\n",
      "      Edge index shape: (2, 71) \n",
      "\n",
      "      Edge attribute shape: (71,) \n",
      " \n",
      "      Labels shape: (1339, 20, 1) \n",
      "\n",
      "      \n"
     ]
    }
   ],
   "source": [
    "print(f\"\"\"\n",
    "      X feature shape: {xs.shape} \\n\n",
    "      Edge index shape: {edge_indices.shape} \\n\n",
    "      Edge attribute shape: {edge_attr.shape} \\n \n",
    "      Labels shape: {ys.shape} \\n\n",
    "      \"\"\")"
   ]
  },
  {
   "cell_type": "code",
   "execution_count": 11,
   "id": "ee937f70",
   "metadata": {},
   "outputs": [
    {
     "name": "stdout",
     "output_type": "stream",
     "text": [
      "Example of graph snapshot 0: \n",
      "\n",
      "      Node feature shape: (20, 1, 4) \n",
      "\n",
      "      Edge index shape: (71,) \n",
      "\n",
      "      Edge attribute shape: () \n",
      " \n",
      "      Labels shape: (20, 1) \n",
      "\n",
      "      \n"
     ]
    }
   ],
   "source": [
    "i = 0\n",
    "print(f\"\"\"Example of graph snapshot {i}: \\n\n",
    "      Node feature shape: {xs[i].shape} \\n\n",
    "      Edge index shape: {edge_indices[i].shape} \\n\n",
    "      Edge attribute shape: {edge_attr[i].shape} \\n \n",
    "      Labels shape: {ys[i].shape} \\n\n",
    "      \"\"\")"
   ]
  },
  {
   "cell_type": "code",
   "execution_count": 12,
   "id": "e99bc0f1",
   "metadata": {},
   "outputs": [
    {
     "data": {
      "text/plain": [
       "Data(x=[20, 1, 4], edge_index=[2, 71], edge_attr=[71], y=[20, 1])"
      ]
     },
     "execution_count": 12,
     "metadata": {},
     "output_type": "execute_result"
    }
   ],
   "source": [
    "dive_dataset = StaticGraphTemporalSignal(edge_indices, edge_attr, xs, ys)\n",
    "m = next(iter(dive_dataset))\n",
    "m"
   ]
  },
  {
   "cell_type": "code",
   "execution_count": 13,
   "id": "4aa19582",
   "metadata": {},
   "outputs": [
    {
     "name": "stdout",
     "output_type": "stream",
     "text": [
      "Example of graph snapshot 0: \n",
      "\n",
      "      Node feature shape: torch.Size([20, 1, 4]) \n",
      "\n",
      "      Edge index shape: torch.Size([2, 71]) \n",
      "\n",
      "      Edge attribute shape: torch.Size([71]) \n",
      " \n",
      "      Labels shape: torch.Size([20, 1]) \n",
      "\n",
      "      \n"
     ]
    }
   ],
   "source": [
    "i = 0\n",
    "print(f\"\"\"Example of graph snapshot {i}: \\n\n",
    "      Node feature shape: {dive_dataset[i].x.shape} \\n\n",
    "      Edge index shape: {dive_dataset[i].edge_index.shape} \\n\n",
    "      Edge attribute shape: {dive_dataset[i].edge_attr.shape} \\n \n",
    "      Labels shape: {dive_dataset[i].y.shape} \\n\n",
    "      \"\"\")"
   ]
  },
  {
   "cell_type": "code",
   "execution_count": 14,
   "id": "cfa7f201",
   "metadata": {},
   "outputs": [
    {
     "data": {
      "text/plain": [
       "<AxesSubplot:>"
      ]
     },
     "execution_count": 14,
     "metadata": {},
     "output_type": "execute_result"
    },
    {
     "data": {
      "image/png": "[encoded data removed]",
      "text/plain": [
       "<Figure size 432x288 with 1 Axes>"
      ]
     },
     "metadata": {
      "needs_background": "light"
     },
     "output_type": "display_data"
    }
   ],
   "source": [
    "import seaborn as sns\n",
    "# Visualize traffic over time\n",
    "sensor_number = 1\n",
    "hours = 24\n",
    "# sensor_labels = [bucket.y[sensor_number][0].item() for bucket in list(dataset)[:hours]]\n",
    "sensor_labels = [bucket.y[sensor_number][0].item() for bucket in list(dive_dataset)[:hours]]\n",
    "sns.lineplot(data=sensor_labels)"
   ]
  },
  {
   "cell_type": "code",
   "execution_count": 15,
   "id": "e10790d1",
   "metadata": {},
   "outputs": [
    {
     "name": "stdout",
     "output_type": "stream",
     "text": [
      "Number of train buckets:  1071\n",
      "Number of test buckets:  268\n"
     ]
    }
   ],
   "source": [
    "from torch_geometric_temporal.signal import temporal_signal_split\n",
    "train_dataset, test_dataset = temporal_signal_split(dive_dataset, train_ratio=0.8)\n",
    "#train_dataset, test_dataset = temporal_signal_split(dataset, train_ratio=0.8)\n",
    "print(\"Number of train buckets: \", len(train_dataset.features))\n",
    "print(\"Number of test buckets: \", len(test_dataset.features))"
   ]
  },
  {
   "cell_type": "code",
   "execution_count": 16,
   "id": "9353cea7",
   "metadata": {},
   "outputs": [],
   "source": []
  },
  {
   "cell_type": "code",
   "execution_count": null,
   "id": "b36b6a1d",
   "metadata": {},
   "outputs": [],
   "source": []
  }
 ],
 "metadata": {
  "kernelspec": {
   "display_name": "Python [conda env:GPU_Access]",
   "language": "python",
   "name": "conda-env-GPU_Access-py"
  },
  "language_info": {
   "codemirror_mode": {
    "name": "ipython",
    "version": 3
   },
   "file_extension": ".py",
   "mimetype": "text/x-python",
   "name": "python",
   "nbconvert_exporter": "python",
   "pygments_lexer": "ipython3",
   "version": "3.7.9"
  }
 },
 "nbformat": 4,
 "nbformat_minor": 5
}
